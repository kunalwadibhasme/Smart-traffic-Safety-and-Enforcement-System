{
  "nbformat": 4,
  "nbformat_minor": 0,
  "metadata": {
    "colab": {
      "provenance": []
    },
    "kernelspec": {
      "name": "python3",
      "display_name": "Python 3"
    },
    "language_info": {
      "name": "python"
    }
  },
  "cells": [
    {
      "cell_type": "code",
      "execution_count": null,
      "metadata": {
        "colab": {
          "base_uri": "https://localhost:8080/"
        },
        "id": "bztIfn7ichVt",
        "outputId": "f7c8a12f-ae00-4830-ea0c-ac143b97d2ce"
      },
      "outputs": [
        {
          "output_type": "stream",
          "name": "stdout",
          "text": [
            "Cloning into 'Helmet-Detection--Computer-Vision-'...\n",
            "remote: Enumerating objects: 852, done.\u001b[K\n",
            "remote: Counting objects: 100% (136/136), done.\u001b[K\n",
            "remote: Compressing objects: 100% (105/105), done.\u001b[K\n",
            "remote: Total 852 (delta 76), reused 78 (delta 30), pack-reused 716\u001b[K\n",
            "Receiving objects: 100% (852/852), 343.15 MiB | 28.38 MiB/s, done.\n",
            "Resolving deltas: 100% (119/119), done.\n",
            "Updating files: 100% (786/786), done.\n"
          ]
        }
      ],
      
      ]
    },
    {
      "cell_type": "code",
      "source": [],
      "metadata": {
        "id": "xOqlIlgof2qe"
      },
      "execution_count": null,
      "outputs": []
    }
  ]
}
